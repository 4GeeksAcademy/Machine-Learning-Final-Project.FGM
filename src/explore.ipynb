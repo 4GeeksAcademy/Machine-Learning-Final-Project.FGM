{
    "cells": [
        {
            "cell_type": "markdown",
            "metadata": {},
            "source": [
                "# Spain Wildfires\n",
                "\n",
                "- Incendios forestales ocurridos en España entre los años 1968 y 2016.\n",
                "- Estudio realizado sobre un dataset formado por 585400 observaciones y 51 atributos que se describen a continuación."
            ]
        },
        {
            "cell_type": "markdown",
            "metadata": {},
            "source": [
                "------------------------------------------------------------------------------------------------------------------------"
            ]
        },
        {
            "cell_type": "markdown",
            "metadata": {},
            "source": [
                "**1. Data Cleaning and Preprocessing**"
            ]
        },
        {
            "cell_type": "markdown",
            "metadata": {},
            "source": [
                "A. Data collection from Kaggle API"
            ]
        },
        {
            "cell_type": "code",
            "execution_count": 3,
            "metadata": {},
            "outputs": [
                {
                    "ename": "FileExistsError",
                    "evalue": "[Errno 17] File exists: '/workspaces/Machine-Learning-Final-Project.FGM/.kaggle/kaggle.json'",
                    "output_type": "error",
                    "traceback": [
                        "\u001b[0;31m---------------------------------------------------------------------------\u001b[0m",
                        "\u001b[0;31mFileExistsError\u001b[0m                           Traceback (most recent call last)",
                        "Cell \u001b[0;32mIn[3], line 5\u001b[0m\n\u001b[1;32m      2\u001b[0m \u001b[38;5;28;01mimport\u001b[39;00m\u001b[38;5;250m \u001b[39m\u001b[38;5;21;01mshutil\u001b[39;00m\n\u001b[1;32m      4\u001b[0m \u001b[38;5;66;03m# Crear la carpeta .kaggle en el directorio raíz del usuario si no existe\u001b[39;00m\n\u001b[0;32m----> 5\u001b[0m \u001b[43mos\u001b[49m\u001b[38;5;241;43m.\u001b[39;49m\u001b[43mmakedirs\u001b[49m\u001b[43m(\u001b[49m\u001b[43mos\u001b[49m\u001b[38;5;241;43m.\u001b[39;49m\u001b[43mpath\u001b[49m\u001b[38;5;241;43m.\u001b[39;49m\u001b[43mexpanduser\u001b[49m\u001b[43m(\u001b[49m\u001b[38;5;124;43m\"\u001b[39;49m\u001b[38;5;124;43m/workspaces/Machine-Learning-Final-Project.FGM/.kaggle/kaggle.json\u001b[39;49m\u001b[38;5;124;43m\"\u001b[39;49m\u001b[43m)\u001b[49m\u001b[43m,\u001b[49m\u001b[43m \u001b[49m\u001b[43mexist_ok\u001b[49m\u001b[38;5;241;43m=\u001b[39;49m\u001b[38;5;28;43;01mTrue\u001b[39;49;00m\u001b[43m)\u001b[49m\n\u001b[1;32m      7\u001b[0m \u001b[38;5;66;03m# Mover kaggle.json a la carpeta .kaggle\u001b[39;00m\n\u001b[1;32m      8\u001b[0m shutil\u001b[38;5;241m.\u001b[39mmove(\u001b[38;5;124m\"\u001b[39m\u001b[38;5;124mkaggle.json\u001b[39m\u001b[38;5;124m\"\u001b[39m, os\u001b[38;5;241m.\u001b[39mpath\u001b[38;5;241m.\u001b[39mexpanduser(\u001b[38;5;124m\"\u001b[39m\u001b[38;5;124m~/.kaggle/kaggle.json\u001b[39m\u001b[38;5;124m\"\u001b[39m))\n",
                        "File \u001b[0;32m/usr/local/lib/python3.10/os.py:225\u001b[0m, in \u001b[0;36mmakedirs\u001b[0;34m(name, mode, exist_ok)\u001b[0m\n\u001b[1;32m    223\u001b[0m         \u001b[38;5;28;01mreturn\u001b[39;00m\n\u001b[1;32m    224\u001b[0m \u001b[38;5;28;01mtry\u001b[39;00m:\n\u001b[0;32m--> 225\u001b[0m     \u001b[43mmkdir\u001b[49m\u001b[43m(\u001b[49m\u001b[43mname\u001b[49m\u001b[43m,\u001b[49m\u001b[43m \u001b[49m\u001b[43mmode\u001b[49m\u001b[43m)\u001b[49m\n\u001b[1;32m    226\u001b[0m \u001b[38;5;28;01mexcept\u001b[39;00m \u001b[38;5;167;01mOSError\u001b[39;00m:\n\u001b[1;32m    227\u001b[0m     \u001b[38;5;66;03m# Cannot rely on checking for EEXIST, since the operating system\u001b[39;00m\n\u001b[1;32m    228\u001b[0m     \u001b[38;5;66;03m# could give priority to other errors like EACCES or EROFS\u001b[39;00m\n\u001b[1;32m    229\u001b[0m     \u001b[38;5;28;01mif\u001b[39;00m \u001b[38;5;129;01mnot\u001b[39;00m exist_ok \u001b[38;5;129;01mor\u001b[39;00m \u001b[38;5;129;01mnot\u001b[39;00m path\u001b[38;5;241m.\u001b[39misdir(name):\n",
                        "\u001b[0;31mFileExistsError\u001b[0m: [Errno 17] File exists: '/workspaces/Machine-Learning-Final-Project.FGM/.kaggle/kaggle.json'"
                    ]
                }
            ],
            "source": [
                "import os\n",
                "import shutil\n",
                "\n",
                "# Crear la carpeta .kaggle en el directorio raíz del usuario si no existe\n",
                "os.makedirs(os.path.expanduser(\"/workspaces/Machine-Learning-Final-Project.FGM/.kaggle/kaggle.json\"), exist_ok=True)\n",
                "\n",
                "# Mover kaggle.json a la carpeta .kaggle\n",
                "shutil.move(\"kaggle.json\", os.path.expanduser(\"~/.kaggle/kaggle.json\"))\n",
                "\n",
                "# Cambiar permisos al archivo para mayor seguridad\n",
                "os.chmod(os.path.expanduser(\"~/.kaggle/kaggle.json\"), 0o600)\n"
            ]
        }
    ],
    "metadata": {
        "kernelspec": {
            "display_name": "Python 3",
            "language": "python",
            "name": "python3"
        },
        "language_info": {
            "codemirror_mode": {
                "name": "ipython",
                "version": 3
            },
            "file_extension": ".py",
            "mimetype": "text/x-python",
            "name": "python",
            "nbconvert_exporter": "python",
            "pygments_lexer": "ipython3",
            "version": "3.10.12"
        },
        "orig_nbformat": 4
    },
    "nbformat": 4,
    "nbformat_minor": 2
}
