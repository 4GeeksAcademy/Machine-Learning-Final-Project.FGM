{
    "cells": [
        {
            "cell_type": "markdown",
            "metadata": {},
            "source": [
                "# Spain Wildfires\n",
                "\n",
                "- Incendios forestales ocurridos en España entre los años 1968 y 2016.\n",
                "- Estudio realizado sobre un dataset formado por 585400 observaciones y 51 atributos que se describen a continuación."
            ]
        },
        {
            "cell_type": "markdown",
            "metadata": {},
            "source": [
                "------------------------------------------------------------------------------------------------------------------------"
            ]
        },
        {
            "cell_type": "markdown",
            "metadata": {},
            "source": [
                "**1. Data Cleaning and Preprocessing**"
            ]
        },
        {
            "cell_type": "markdown",
            "metadata": {},
            "source": [
                "A. Data collection from Kaggle API"
            ]
        },
        {
            "cell_type": "code",
            "execution_count": 2,
            "metadata": {},
            "outputs": [
                {
                    "name": "stdout",
                    "output_type": "stream",
                    "text": [
                        "Dataset URL: https://www.kaggle.com/datasets/patrilc/wildfirespain\n"
                    ]
                },
                {
                    "name": "stdout",
                    "output_type": "stream",
                    "text": [
                        "Archive:  /workspaces/Machine-Learning-Final-Project.FGM/src/wildfirespain.zip\n",
                        "  inflating: ./incendios.csv         \n",
                        "/workspaces/Machine-Learning-Final-Project.FGM/src/wildfirespain.zip successfully extracted to ./\n",
                        "Directory contents after extraction:\n",
                        "incendios.csv\n",
                        "utils.py\n",
                        "app.py\n",
                        "workflow.csv\n",
                        "explore.ipynb\n",
                        "wildfirespain.zip\n"
                    ]
                }
            ],
            "source": [
                "import os\n",
                "import subprocess\n",
                "from shutil import copy2\n",
                "from kaggle.api.kaggle_api_extended import KaggleApi\n",
                "\n",
                "# Step 1: Move (copy) the kaggle.json file to the correct location\n",
                "src_path = '/workspaces/Machine-Learning-Final-Project.FGM/.devcontainer/kaggle.json'\n",
                "dst_path = os.path.expanduser('~/.kaggle/kaggle.json')\n",
                "\n",
                "# Ensure the .kaggle directory exists and copy the kaggle.json file\n",
                "os.makedirs(os.path.dirname(dst_path), exist_ok=True)\n",
                "copy2(src_path, dst_path)\n",
                "\n",
                "# Set permissions for the kaggle.json file\n",
                "os.chmod(dst_path, 0o600)\n",
                "\n",
                "# Step 2: Download the dataset again using Kaggle API\n",
                "api = KaggleApi()\n",
                "api.authenticate()\n",
                "\n",
                "# Define dataset info\n",
                "dataset_name = 'patrilc/wildfirespain'\n",
                "zip_file_path = '/workspaces/Machine-Learning-Final-Project.FGM/src/wildfirespain.zip'\n",
                "output_dir = './'\n",
                "\n",
                "# Download dataset\n",
                "api.dataset_download_files(dataset_name, path=output_dir, unzip=False)\n",
                "\n",
                "# Step 3: Check if the zip file exists and extract it\n",
                "if os.path.exists(zip_file_path):\n",
                "    subprocess.run(['unzip', zip_file_path, '-d', output_dir], check=True)\n",
                "    print(f\"{zip_file_path} successfully extracted to {output_dir}\")\n",
                "else:\n",
                "    print(f\"{zip_file_path} does not exist in the specified path.\")\n",
                "\n",
                "# Step 4: List the contents of the current directory\n",
                "directory_contents = os.listdir(output_dir)\n",
                "print(\"Directory contents after extraction:\")\n",
                "for item in directory_contents:\n",
                "    print(item)"
            ]
        }
    ],
    "metadata": {
        "kernelspec": {
            "display_name": "Python 3",
            "language": "python",
            "name": "python3"
        },
        "language_info": {
            "codemirror_mode": {
                "name": "ipython",
                "version": 3
            },
            "file_extension": ".py",
            "mimetype": "text/x-python",
            "name": "python",
            "nbconvert_exporter": "python",
            "pygments_lexer": "ipython3",
            "version": "3.10.12"
        },
        "orig_nbformat": 4
    },
    "nbformat": 4,
    "nbformat_minor": 2
}
